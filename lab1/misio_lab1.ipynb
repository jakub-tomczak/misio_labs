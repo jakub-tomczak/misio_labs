{
 "cells": [
  {
   "cell_type": "code",
   "execution_count": null,
   "metadata": {},
   "outputs": [],
   "source": [
    "from aima3.agents import *"
   ]
  },
  {
   "cell_type": "markdown",
   "metadata": {},
   "source": [
    "Nowe środowisko! Jak oceniane są agenty?\n",
    "\n",
    "Plik, który powinien być pomocny: [na githubie](https://github.com/Calysto/aima3/blob/master/aima3/agents.py)."
   ]
  },
  {
   "cell_type": "markdown",
   "metadata": {},
   "source": [
    "# Zad. 1 Jakie cechy ma to środowisko (Jest 7 cech, vide wykład 1).\n",
    "\n",
    "Dla ciągłości/dyskretności określ cechy osobno w stosunku do czasu, akcji i przestrzeni stanów."
   ]
  },
  {
   "cell_type": "code",
   "execution_count": null,
   "metadata": {},
   "outputs": [],
   "source": [
    "env = TrivialVacuumEnvironment()"
   ]
  },
  {
   "cell_type": "markdown",
   "metadata": {},
   "source": [
    "Sprawdź status pól."
   ]
  },
  {
   "cell_type": "code",
   "execution_count": null,
   "metadata": {},
   "outputs": [],
   "source": [
    "env.status"
   ]
  },
  {
   "cell_type": "markdown",
   "metadata": {},
   "source": [
    "Utwórz agenta. Obejrzyj kod."
   ]
  },
  {
   "cell_type": "code",
   "execution_count": null,
   "metadata": {},
   "outputs": [],
   "source": [
    "agent = ReflexVacuumAgent()\n",
    "print(agent.is_alive())"
   ]
  },
  {
   "cell_type": "markdown",
   "metadata": {},
   "source": [
    "Dodaj agenta do środowiska. Owijamy go w TraceAgent'a, żeby zobaczyć co robi."
   ]
  },
  {
   "cell_type": "code",
   "execution_count": null,
   "metadata": {},
   "outputs": [],
   "source": [
    "env.add_thing(TraceAgent(agent))"
   ]
  },
  {
   "cell_type": "markdown",
   "metadata": {},
   "source": [
    "Zobacz gdzie jest agent"
   ]
  },
  {
   "cell_type": "code",
   "execution_count": null,
   "metadata": {},
   "outputs": [],
   "source": [
    "for loc in [loc_A, loc_B]:\n",
    "    print('loc {0}: {1}'.format(loc, env.list_things_at(loc)))\n",
    "agent.location"
   ]
  },
  {
   "cell_type": "markdown",
   "metadata": {},
   "source": [
    "Wykonaj 10 kroków. Jakie akcje wykonywał agent w kolejnych krokach?\n"
   ]
  },
  {
   "cell_type": "code",
   "execution_count": null,
   "metadata": {},
   "outputs": [],
   "source": [
    "env.run(10)"
   ]
  },
  {
   "cell_type": "markdown",
   "metadata": {},
   "source": [
    "Sprawdź jak środowisko oceniło jakość agenta.\n"
   ]
  },
  {
   "cell_type": "code",
   "execution_count": null,
   "metadata": {},
   "outputs": [],
   "source": [
    "agent.performance"
   ]
  },
  {
   "cell_type": "markdown",
   "metadata": {},
   "source": [
    "Moglibyśmy ocenić oczekiwaną jakość agenta dokładnie..., ale tylko ją oszacujemy (1000 powtórzeń).\n",
    "Zakładamy, że symulacja trwa 50 kroków."
   ]
  },
  {
   "cell_type": "code",
   "execution_count": null,
   "metadata": {},
   "outputs": [],
   "source": [
    "def agent_factory_1():\n",
    "    return ReflexVacuumAgent()\n",
    "def agent_factory_2():\n",
    "    return ModelBasedVacuumAgent()\n",
    "def env_factory():\n",
    "    return TrivialVacuumEnvironment()\n",
    "compare_agents(env_factory, [agent_factory_1, agent_factory_2], 1000, 50)"
   ]
  },
  {
   "cell_type": "markdown",
   "metadata": {},
   "source": [
    "# Zad 2. Jeden z agentów okazał się dużo lepszy. Dlaczego?"
   ]
  },
  {
   "cell_type": "markdown",
   "metadata": {},
   "source": [
    "# Zad 3. Czy agenty ReflexVacuumAgent lub ModelBasedVacuumAgent są racjonalne? Uzasadnij."
   ]
  },
  {
   "cell_type": "markdown",
   "metadata": {},
   "source": [
    "# Zad 4. Czy dla tego środowiska istnieje racjonalny agent odruchowy? Uzasadnij."
   ]
  },
  {
   "cell_type": "markdown",
   "metadata": {},
   "source": [
    "Zerknijmy teraz na inne środowisko."
   ]
  },
  {
   "cell_type": "code",
   "execution_count": null,
   "metadata": {},
   "outputs": [],
   "source": [
    "from misio import *\n",
    "env = TrivialVacuumEnvironmentWithChildren(random_dirt_prob=0.05)\n"
   ]
  },
  {
   "cell_type": "markdown",
   "metadata": {},
   "source": [
    "# Zad. 5 Jakie ma ono cechy? (vide zad. 1)"
   ]
  },
  {
   "cell_type": "markdown",
   "metadata": {},
   "source": [
    "# Zad. 6 (4pkt) Napisz program agenta, który będzie (średnio) lepszy dla tego środowiska (50 kroków) niż ModelBaseVacuumAgent oraz ReflexVacuumAgent.\n",
    "\n",
    "Punktacja:\n",
    "* \\> 40: 1pkt\n",
    "* \\> 42: 2pkt\n",
    "* \\> 44: 3pkt\n",
    "* \\> 46: 4pkt\n",
    "\n",
    "Aby dostać punkty za to zadanie należy zgłosić program na platformie [Optil.io](https://www.optil.io/optilion/problem/3161)"
   ]
  },
  {
   "cell_type": "markdown",
   "metadata": {},
   "source": [
    "# Zad 7 Oblicz statystyki:\n",
    "\n",
    "* narysuj histogram jakości agenta\n",
    "* podaj oczekiwaną wartość jakości twojego agenta na podstawie 50,000 uruchomień\n",
    "* podaj [przedział ufności](https://pl.wikipedia.org/wiki/Przedzia%C5%82_ufno%C5%9Bci) na poziomie 95%\n",
    "\n"
   ]
  },
  {
   "cell_type": "code",
   "execution_count": null,
   "metadata": {},
   "outputs": [],
   "source": [
    "\n",
    "# Przykład rysowania histogramu (biblioteka matplotlib)\n",
    "%matplotlib inlineenv.run(10)\n",
    "from matplotlib import pylab as plt\n",
    "plt.style.use(\"seaborn-deep\")\n",
    "\n",
    "import random\n",
    "data = [random.gauss(mu=0, sigma=1) for x in range(100000)]\n",
    "plt.hist(data, normed=True, bins=20)\n",
    "plt.show()\n",
    "# Albo (zamiast plt.show()):\n",
    "# plt.savefig('wykres.svg')"
   ]
  }
 ],
 "metadata": {
  "kernelspec": {
   "display_name": "Python 3",
   "language": "python",
   "name": "python3"
  },
  "language_info": {
   "codemirror_mode": {
    "name": "ipython",
    "version": 3
   },
   "file_extension": ".py",
   "mimetype": "text/x-python",
   "name": "python",
   "nbconvert_exporter": "python",
   "pygments_lexer": "ipython3",
   "version": "3.6.6"
  }
 },
 "nbformat": 4,
 "nbformat_minor": 1
}
